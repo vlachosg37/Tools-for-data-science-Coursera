{
 "cells": [
  {
   "cell_type": "markdown",
   "id": "e54cbda2-514c-4b95-a885-c0f7d9d09bd4",
   "metadata": {},
   "source": [
    "# Data Science Tools and Ecosystem"
   ]
  },
  {
   "cell_type": "markdown",
   "id": "2e008e3a-aad0-4745-9d33-a31ac17a1d64",
   "metadata": {},
   "source": [
    "In this notebook, Data Science Tools and Ecosystem are summarized."
   ]
  },
  {
   "cell_type": "markdown",
   "id": "0ae38eba-bf4a-4fa0-9ec2-c9771df4d8f2",
   "metadata": {
    "tags": []
   },
   "source": [
    "### Below are a few examples of evaluating arithmetic expressions in Python.\n",
    "\n",
    "__Objectives:__\n",
    "- List popular languages for Data Science\n",
    "- Highlight commonly used Data Science libraries\n",
    "- Overview of open source development environments in Data Science\n",
    "- Demonstrate basic arithmetic operations in Python\n",
    "- Introduce Markdown and code cell usage in Jupyter Notebooks\n"
   ]
  },
  {
   "cell_type": "markdown",
   "id": "adb906be-b80e-4de5-a267-ceb3c417de2e",
   "metadata": {
    "tags": []
   },
   "source": [
    "Some of the popular languages that Data Scientists use are:\n",
    "1. Python\n",
    "2. R\n",
    "3. SQL\n",
    "4. Julia"
   ]
  },
  {
   "cell_type": "markdown",
   "id": "4b647cda-1cf6-48d6-9e09-1f4745d7d1ad",
   "metadata": {},
   "source": [
    "Some of the commonly used libraries used by Data Scientists include:\n",
    "\n",
    "1. Pandas (Python)\n",
    "2. NumPy (Python)\n",
    "3. TensorFlow (Python)\n",
    "4. scikit-learn (Python)\n",
    "5. ggplot2 (R)"
   ]
  },
  {
   "cell_type": "markdown",
   "id": "d68476c0-8196-4ee3-a69c-98ae8a0c2e0f",
   "metadata": {},
   "source": [
    "| Data Science Tools |\n",
    "|--------------------|\n",
    "| Jupyter Notebook   |\n",
    "| RStudio            |\n",
    "| Apache Spark       |"
   ]
  },
  {
   "cell_type": "markdown",
   "id": "ce3b39bd-9a57-462e-a01d-e7679948aebd",
   "metadata": {},
   "source": [
    "### Below are a few examples of evaluating arithmetic expressions in Python"
   ]
  },
  {
   "cell_type": "code",
   "execution_count": 1,
   "id": "0d204dcf-4fd8-4737-9d9a-7ddb57382c50",
   "metadata": {
    "tags": []
   },
   "outputs": [
    {
     "data": {
      "text/plain": [
       "17"
      ]
     },
     "execution_count": 1,
     "metadata": {},
     "output_type": "execute_result"
    }
   ],
   "source": [
    "#This a simple arithmetic expression to mutiply then add integers\n",
    "(3*4)+5"
   ]
  },
  {
   "cell_type": "code",
   "execution_count": 2,
   "id": "fa057ded-63ea-462d-9f9a-883158bb1451",
   "metadata": {
    "tags": []
   },
   "outputs": [
    {
     "data": {
      "text/plain": [
       "3.3333333333333335"
      ]
     },
     "execution_count": 2,
     "metadata": {},
     "output_type": "execute_result"
    }
   ],
   "source": [
    "# This will convert 200 minutes to hours by dividing by 60\n",
    "hours = 200 / 60\n",
    "hours"
   ]
  },
  {
   "cell_type": "markdown",
   "id": "9cbbfaaf-cbb5-4731-857a-de9df78dc141",
   "metadata": {},
   "source": [
    "## Author\n",
    "\n",
    "Georgios Vlachos"
   ]
  },
  {
   "cell_type": "code",
   "execution_count": null,
   "id": "0e507c0c-9ffc-47eb-83ca-5dc559596e2c",
   "metadata": {},
   "outputs": [],
   "source": []
  }
 ],
 "metadata": {
  "kernelspec": {
   "display_name": "Python 3 (ipykernel)",
   "language": "python",
   "name": "python3"
  },
  "language_info": {
   "codemirror_mode": {
    "name": "ipython",
    "version": 3
   },
   "file_extension": ".py",
   "mimetype": "text/x-python",
   "name": "python",
   "nbconvert_exporter": "python",
   "pygments_lexer": "ipython3",
   "version": "3.11.5"
  }
 },
 "nbformat": 4,
 "nbformat_minor": 5
}
